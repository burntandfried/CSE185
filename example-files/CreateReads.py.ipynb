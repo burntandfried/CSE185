{
 "cells": [
  {
   "cell_type": "code",
   "execution_count": 19,
   "metadata": {},
   "outputs": [],
   "source": [
    "import random\n",
    "\n",
    "string = 'CTAAACCCTAAACCCTAACCCTAACCCTAACCCTAACCCTAACCCCAACC'\n",
    "reads = [0, string, '+', string]\n",
    "nucs = {0: 'A', 1: 'C', 2: 'G', 3: 'T'}\n",
    "\n",
    "totalReads = 5\n",
    "for i in range(totalReads):\n",
    "    seq = ''\n",
    "    for j in range(len(string)):\n",
    "        rand = random.randint(0,3)\n",
    "        seq = seq + nucs[rand]\n",
    "    reads.append(i+1)\n",
    "    reads.append(seq)\n",
    "    reads.append('+')\n",
    "    reads.append(string)"
   ]
  },
  {
   "cell_type": "code",
   "execution_count": 20,
   "metadata": {},
   "outputs": [
    {
     "data": {
      "text/plain": [
       "[0,\n",
       " 'CTAAACCCTAAACCCTAACCCTAACCCTAACCCTAACCCTAACCCCAACC',\n",
       " '+',\n",
       " 'CTAAACCCTAAACCCTAACCCTAACCCTAACCCTAACCCTAACCCCAACC',\n",
       " 1,\n",
       " 'CAGTGCACATATACTTGTTTCCCAACCTATTCTCAACTAAAGCCGATTGA',\n",
       " '+',\n",
       " 'CTAAACCCTAAACCCTAACCCTAACCCTAACCCTAACCCTAACCCCAACC',\n",
       " 2,\n",
       " 'CGGTGTGGCGTGGTGCCCGTTACCCGGCTGCAGGTTCACAGAAATCTCAC',\n",
       " '+',\n",
       " 'CTAAACCCTAAACCCTAACCCTAACCCTAACCCTAACCCTAACCCCAACC',\n",
       " 3,\n",
       " 'CATAATTATACCGGCCGTCACAGCGTCGTAATTCCATAATAATAACCCGC',\n",
       " '+',\n",
       " 'CTAAACCCTAAACCCTAACCCTAACCCTAACCCTAACCCTAACCCCAACC',\n",
       " 4,\n",
       " 'GTTGTGGCAGGAGGTGCCGCATCTCCAACAAGGTCGAAGTCGCAAAAGAC',\n",
       " '+',\n",
       " 'CTAAACCCTAAACCCTAACCCTAACCCTAACCCTAACCCTAACCCCAACC',\n",
       " 5,\n",
       " 'TGCCTTCGGTCGAGGGTGGGGGGACCCACTAAAGTGTCGAGTAGCCACTA',\n",
       " '+',\n",
       " 'CTAAACCCTAAACCCTAACCCTAACCCTAACCCTAACCCTAACCCCAACC']"
      ]
     },
     "execution_count": 20,
     "metadata": {},
     "output_type": "execute_result"
    }
   ],
   "source": [
    "reads"
   ]
  },
  {
   "cell_type": "code",
   "execution_count": 21,
   "metadata": {},
   "outputs": [],
   "source": [
    "with open('reads50.fq', 'w') as file:\n",
    "    for read in reads:\n",
    "        file.write(str(read))\n",
    "        file.write('\\n')"
   ]
  },
  {
   "cell_type": "code",
   "execution_count": null,
   "metadata": {},
   "outputs": [],
   "source": []
  }
 ],
 "metadata": {
  "kernelspec": {
   "display_name": "Python 3",
   "language": "python",
   "name": "python3"
  },
  "language_info": {
   "codemirror_mode": {
    "name": "ipython",
    "version": 3
   },
   "file_extension": ".py",
   "mimetype": "text/x-python",
   "name": "python",
   "nbconvert_exporter": "python",
   "pygments_lexer": "ipython3",
   "version": "3.8.3"
  }
 },
 "nbformat": 4,
 "nbformat_minor": 4
}
