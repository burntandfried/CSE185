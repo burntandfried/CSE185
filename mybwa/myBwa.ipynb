{
 "cells": [
  {
   "cell_type": "code",
   "execution_count": 13,
   "metadata": {},
   "outputs": [],
   "source": [
    "with open('/Users/annasophia/Desktop/GitHub/CSE185/example-files/hg19chr1.fa', 'r') as file:\n",
    "    genome = ''\n",
    "    file.readline()\n",
    "    for line in file:\n",
    "        line = line.strip()\n",
    "        genome = genome + line"
   ]
  },
  {
   "cell_type": "code",
   "execution_count": 16,
   "metadata": {},
   "outputs": [],
   "source": [
    "# returns all cyclic rotations of text\n",
    "def CyclicRotations(text):\n",
    "    rotations = [text]\n",
    "    \n",
    "    curr = text[-1] + text[:len(text)-1]\n",
    "    while curr != text:\n",
    "        rotations.append(curr)\n",
    "        curr = curr[-1] + curr[:len(text)-1]\n",
    "        \n",
    "    return rotations"
   ]
  },
  {
   "cell_type": "code",
   "execution_count": 17,
   "metadata": {},
   "outputs": [],
   "source": [
    "# returns the burrows-wheeler transform of text\n",
    "def BWT(text):\n",
    "    rotations = CyclicRotations(text)\n",
    "    sortedRotations = sorted(rotations)\n",
    "    \n",
    "    bwt = ''\n",
    "    for string in sortedRotations:\n",
    "        bwt = bwt + string[-1]\n",
    "    \n",
    "    return bwt"
   ]
  },
  {
   "cell_type": "code",
   "execution_count": 19,
   "metadata": {},
   "outputs": [],
   "source": [
    "bwt = BWT(genome)"
   ]
  },
  {
   "cell_type": "code",
   "execution_count": 51,
   "metadata": {},
   "outputs": [],
   "source": [
    "with open('/Users/annasophia/Desktop/GitHub/CSE185/example-files/reads50.fq', 'r') as file:\n",
    "    counter = 0\n",
    "    readDict = {}\n",
    "    for line in file:\n",
    "        if counter < 2:\n",
    "            if counter == 0:\n",
    "                key = line.strip()\n",
    "            elif counter == 1:\n",
    "                value = line.strip()   \n",
    "                readDict[key] = value\n",
    "            counter = counter + 1\n",
    "\n",
    "        else:\n",
    "            counter = 0\n",
    "            file.readline()\n",
    "\n",
    "    if counter == 1:\n",
    "        readDict[key] = value"
   ]
  },
  {
   "cell_type": "code",
   "execution_count": null,
   "metadata": {},
   "outputs": [],
   "source": []
  },
  {
   "cell_type": "code",
   "execution_count": 52,
   "metadata": {},
   "outputs": [],
   "source": [
    "# returns all suffixes of a string\n",
    "def GetSuffixes(text):\n",
    "    suffixes = []\n",
    "    for i in range(len(text)):\n",
    "        suffixes.append(text[i:])\n",
    "    return suffixes"
   ]
  },
  {
   "cell_type": "code",
   "execution_count": 53,
   "metadata": {},
   "outputs": [],
   "source": [
    "# returns the suffix array of text (sort all suffixes alphabetically, assuming $ is at beginning of alphabet)\n",
    "# suffix array is the array of start indices of the suffixes in their alphabetical order\n",
    "def SuffixArray(text):\n",
    "    suffixes = GetSuffixes(text)\n",
    "    suffixes = sorted(suffixes)\n",
    "    \n",
    "    suffArray = []\n",
    "    for suff in suffixes:\n",
    "        suffArray.append(len(text) - len(suff))\n",
    "        \n",
    "    return suffArray"
   ]
  },
  {
   "cell_type": "code",
   "execution_count": 54,
   "metadata": {},
   "outputs": [],
   "source": [
    "# returns a dictionary, key = sym, value is a list of the number of times the symbol occurs in the first i positions of lastColumn\n",
    "def CountDict(lastColumn):\n",
    "    count = {sym: [0 for i in range(len(lastColumn)+1)] for sym in lastColumn}\n",
    "\n",
    "    for i in range(len(lastColumn)):\n",
    "        sym = lastColumn[i]\n",
    "        count[sym][i+1] = count[sym][i] + 1\n",
    "        for j in range(i+1, len(count[sym])):\n",
    "            count[sym][j] = count[sym][i+1]\n",
    "        \n",
    "    return count"
   ]
  },
  {
   "cell_type": "code",
   "execution_count": 55,
   "metadata": {},
   "outputs": [],
   "source": [
    "# returns a dictionary, key = symbol and value = the first position that symbol occurs in the first column of the matrix\n",
    "def FirstOccurenceDict(lastColumn):\n",
    "    firstOccur = {}\n",
    "    firstCol = sorted(lastColumn)\n",
    "    \n",
    "    for i in range(len(firstCol)):\n",
    "        if firstCol[i] not in firstOccur:\n",
    "            firstOccur[firstCol[i]] = i\n",
    "    \n",
    "    return firstOccur"
   ]
  },
  {
   "cell_type": "code",
   "execution_count": 56,
   "metadata": {},
   "outputs": [],
   "source": [
    "# returns all cyclic rotations of text\n",
    "def CyclicRotations(text):\n",
    "    rotations = [text]\n",
    "    \n",
    "    curr = text[-1] + text[:len(text)-1]\n",
    "    while curr != text:\n",
    "        rotations.append(curr)\n",
    "        curr = curr[-1] + curr[:len(text)-1]\n",
    "        \n",
    "    return rotations"
   ]
  },
  {
   "cell_type": "code",
   "execution_count": 57,
   "metadata": {},
   "outputs": [],
   "source": [
    "# returns the burrows-wheeler transform of text\n",
    "def BWT(text):\n",
    "    rotations = CyclicRotations(text)\n",
    "    sortedRotations = sorted(rotations)\n",
    "    \n",
    "    bwt = ''\n",
    "    for string in sortedRotations:\n",
    "        bwt = bwt + string[-1]\n",
    "    \n",
    "    return bwt"
   ]
  },
  {
   "cell_type": "code",
   "execution_count": 58,
   "metadata": {},
   "outputs": [],
   "source": [
    "# faster BWTMatching implementation: returns the start indicies of the occurences of a pattern in a string using its BWT\n",
    "def BetterBWTMatching(firstOccur, lastColumn, pattern, count, suffArray):\n",
    "    top = 0\n",
    "    bottom = len(lastColumn) - 1\n",
    "    \n",
    "    patternOccurences = []\n",
    "    while top <= bottom:\n",
    "        if pattern:\n",
    "            symbol = pattern[-1] # store the last letter\n",
    "            pattern = pattern[:-1] # remove the last letter\n",
    "            if symbol in lastColumn[top:bottom+1]:\n",
    "                top = firstOccur[symbol] + count[symbol][top]\n",
    "                bottom = firstOccur[symbol] + count[symbol][bottom+1] - 1\n",
    "            \n",
    "            # pattern does not occur in text\n",
    "            else:\n",
    "                return 0\n",
    "            \n",
    "        # return number of occurances once pattern is empty\n",
    "        else:\n",
    "            for i in range(top, bottom+1):\n",
    "                patternOccurences.append(suffArray[i])\n",
    "            return patternOccurences\n",
    "    "
   ]
  },
  {
   "cell_type": "code",
   "execution_count": 59,
   "metadata": {},
   "outputs": [],
   "source": [
    "# returns the number of times each pattern occurs in text using its BWT \n",
    "#def MatchAllPatterns(text, patterns):\n",
    "def MatchAllPatterns(genome, reads):\n",
    "    lastColumn = BWT(genome+'$')\n",
    "    count = CountDict(lastColumn)\n",
    "    firstOccur = FirstOccurenceDict(lastColumn)\n",
    "    suffArray = SuffixArray(genome+'$')\n",
    "    \n",
    "    matchNums = []\n",
    "    for header, pattern in reads.items():\n",
    "        matchIndices = BetterBWTMatching(firstOccur, lastColumn, pattern, count, suffArray)\n",
    "        if matchIndices != 0:\n",
    "            matchIndices = sorted(matchIndices)\n",
    "        matchNums.append((header, pattern, matchIndices))\n",
    "    \n",
    "    return matchNums"
   ]
  },
  {
   "cell_type": "code",
   "execution_count": 60,
   "metadata": {},
   "outputs": [],
   "source": [
    "sam = MatchAllPatterns(genome, readDict)"
   ]
  },
  {
   "cell_type": "code",
   "execution_count": 62,
   "metadata": {},
   "outputs": [],
   "source": [
    "with open('myBwaMatching.txt', 'w') as file:\n",
    "    countLines = 1\n",
    "    for a in sam:\n",
    "        file.write(a[0])\n",
    "        file.write(', ')\n",
    "        file.write(a[1])\n",
    "        countIndices = 1\n",
    "        if a[2] != 0:\n",
    "            file.write(' ')\n",
    "            for index in a[2]:\n",
    "                file.write(str(index))\n",
    "                if countIndices < len(a[2]):\n",
    "                    file.write(' ')\n",
    "                countIndices = countIndices + 1\n",
    "        if countLines < len(sam):\n",
    "            file.write('\\n')\n",
    "        countLines = countLines + 1"
   ]
  },
  {
   "cell_type": "code",
   "execution_count": null,
   "metadata": {},
   "outputs": [],
   "source": []
  },
  {
   "cell_type": "code",
   "execution_count": 61,
   "metadata": {},
   "outputs": [
    {
     "data": {
      "text/plain": [
       "[('0', 'CTAAACCCTAAACCCTAACCCTAACCCTAACCCTAACCCTAACCCCAACC', [245]),\n",
       " ('1', 'CAGTGCACATATACTTGTTTCCCAACCTATTCTCAACTAAAGCCGATTGA', 0),\n",
       " ('2', 'CGGTGTGGCGTGGTGCCCGTTACCCGGCTGCAGGTTCACAGAAATCTCAC', 0),\n",
       " ('3', 'CATAATTATACCGGCCGTCACAGCGTCGTAATTCCATAATAATAACCCGC', 0),\n",
       " ('4', 'GTTGTGGCAGGAGGTGCCGCATCTCCAACAAGGTCGAAGTCGCAAAAGAC', 0),\n",
       " ('5', 'TGCCTTCGGTCGAGGGTGGGGGGACCCACTAAAGTGTCGAGTAGCCACTA', 0)]"
      ]
     },
     "execution_count": 61,
     "metadata": {},
     "output_type": "execute_result"
    }
   ],
   "source": []
  },
  {
   "cell_type": "code",
   "execution_count": null,
   "metadata": {},
   "outputs": [],
   "source": []
  }
 ],
 "metadata": {
  "kernelspec": {
   "display_name": "Python 3",
   "language": "python",
   "name": "python3"
  },
  "language_info": {
   "codemirror_mode": {
    "name": "ipython",
    "version": 3
   },
   "file_extension": ".py",
   "mimetype": "text/x-python",
   "name": "python",
   "nbconvert_exporter": "python",
   "pygments_lexer": "ipython3",
   "version": "3.8.3"
  }
 },
 "nbformat": 4,
 "nbformat_minor": 4
}
